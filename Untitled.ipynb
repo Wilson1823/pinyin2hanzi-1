{
 "cells": [
  {
   "cell_type": "code",
   "execution_count": 28,
   "metadata": {},
   "outputs": [],
   "source": [
    "import pypinyin\n",
    "import numpy as np\n",
    "lines = open('./data/aishell_transcript_v0.8.txt').read().split('\\n')[:-1]"
   ]
  },
  {
   "cell_type": "code",
   "execution_count": 29,
   "metadata": {},
   "outputs": [],
   "source": [
    "lines = [l.split(' ')[1:] for l in lines]"
   ]
  },
  {
   "cell_type": "code",
   "execution_count": 30,
   "metadata": {},
   "outputs": [],
   "source": [
    "all_py = []\n",
    "for l in lines:\n",
    "    all_py.append(' '.join([p[0] for p in pypinyin.pinyin(l)]))\n",
    "    "
   ]
  },
  {
   "cell_type": "code",
   "execution_count": 34,
   "metadata": {},
   "outputs": [],
   "source": [
    "\n",
    "n = len(lines)\n",
    "idx = np.random.permutation(n)\n",
    "lines = [''.join(lines[i]) for i in idx]\n",
    "all_py = [all_py[i] for i in idx]"
   ]
  },
  {
   "cell_type": "code",
   "execution_count": 39,
   "metadata": {},
   "outputs": [],
   "source": [
    "n_train = int(n*0.7)\n",
    "n_dev = int(n*0.9)"
   ]
  },
  {
   "cell_type": "code",
   "execution_count": 40,
   "metadata": {},
   "outputs": [],
   "source": [
    "with open('ai_shell_train.han','wt') as F:\n",
    "    for l in lines[:n_train]:\n",
    "        F.write(l+'\\n')\n",
    "        \n",
    "with open('ai_shell_train.py','wt') as F:\n",
    "    for l in all_py[:n_train]:\n",
    "        F.write(l+'\\n')"
   ]
  },
  {
   "cell_type": "code",
   "execution_count": 41,
   "metadata": {},
   "outputs": [],
   "source": [
    "with open('ai_shell_dev.han','wt') as F:\n",
    "    for l in lines[n_train:n_dev]:\n",
    "        F.write(l+'\\n')\n",
    "        \n",
    "with open('ai_shell_dev.py','wt') as F:\n",
    "    for l in all_py[n_train:n_dev]:\n",
    "        F.write(l+'\\n')"
   ]
  },
  {
   "cell_type": "code",
   "execution_count": 42,
   "metadata": {},
   "outputs": [],
   "source": [
    "with open('ai_shell_test.han','wt') as F:\n",
    "    for l in lines[n_dev:]:\n",
    "        F.write(l+'\\n')\n",
    "        \n",
    "with open('ai_shell_test.py','wt') as F:\n",
    "    for l in all_py[n_dev:]:\n",
    "        F.write(l+'\\n')"
   ]
  },
  {
   "cell_type": "code",
   "execution_count": null,
   "metadata": {},
   "outputs": [],
   "source": []
  }
 ],
 "metadata": {
  "kernelspec": {
   "display_name": "Python 3",
   "language": "python",
   "name": "python3"
  },
  "language_info": {
   "codemirror_mode": {
    "name": "ipython",
    "version": 3
   },
   "file_extension": ".py",
   "mimetype": "text/x-python",
   "name": "python",
   "nbconvert_exporter": "python",
   "pygments_lexer": "ipython3",
   "version": "3.7.4"
  }
 },
 "nbformat": 4,
 "nbformat_minor": 2
}
